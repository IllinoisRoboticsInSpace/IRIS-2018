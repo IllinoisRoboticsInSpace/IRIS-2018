import Map_roger
import matplotlib.pyplot as plt
reload(Map_roger)

def show(array_obj):
    plt.imshow(array_obj)
    plt.show()

a = Map_roger.coord_system(100, 100)
a.scramble(3)
#print a.display()
show(a.display())
